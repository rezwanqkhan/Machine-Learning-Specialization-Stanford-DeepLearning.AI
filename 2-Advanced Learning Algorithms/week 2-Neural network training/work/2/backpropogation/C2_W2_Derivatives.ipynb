{
 "cells": [
  {
   "cell_type": "markdown",
   "metadata": {
    "tags": []
   },
   "source": [
    "# Optional Lab - Derivatives\n",
    "This lab will give you a more intuitive understanding of derivatives. It will show you a simple way of calculating derivatives arithmetically. It will also introduce you to a handy Python library that allows you to calculate derivatives symbolically."
   ],
   "id": "b8e9f868351c3ca"
  },
  {
   "cell_type": "code",
   "metadata": {
    "ExecuteTime": {
     "end_time": "2025-04-03T19:49:07.349541Z",
     "start_time": "2025-04-03T19:49:06.976804Z"
    }
   },
   "source": [
    "from sympy import symbols, diff"
   ],
   "id": "bf789d84c275624e",
   "outputs": [],
   "execution_count": 1
  },
  {
   "cell_type": "markdown",
   "metadata": {},
   "source": [
    "## Informal definition of derivatives"
   ],
   "id": "bcaded5d15edfcd1"
  },
  {
   "cell_type": "markdown",
   "metadata": {},
   "source": [
    "The formal definition of derivatives can be a bit daunting with limits and values 'going to zero'. The idea is really much simpler. \n",
    "\n",
    "The derivative of a function describes how the output of a function changes when there is a small change in an input variable.\n",
    "\n",
    "Let's use the cost function $J(w)$ as an example. The cost $J$ is the output and $w$ is the input variable.  \n",
    "Let's give a 'small change' a name *epsilon* or $\\epsilon$. We use these Greek letters because it is traditional in mathematics to use *epsilon*($\\epsilon$) or *delta* ($\\Delta$) to represent a small value. You can think of it as representing 0.001 or some other small value.  \n",
    "\n",
    "$$\n",
    "\\begin{equation}\n",
    "\\text{if } w \\uparrow \\epsilon \\text{ causes }J(w) \\uparrow \\text{by }k \\times \\epsilon \\text{ then}  \\\\\n",
    "\\frac{\\partial J(w)}{\\partial w} = k \\tag{1}\n",
    "\\end{equation}\n",
    "$$\n",
    "\n",
    "This just says if you change the input to the function $J(w)$ by a little bit and the output changes by $k$ times that little bit, then the derivative of $J(w)$ is equal to $k$.\n",
    "\n",
    "Let's try this out.  Let's look at the derivative of the function $J(w) = w^2$ at the point $w=3$ and $\\epsilon = 0.001$"
   ],
   "id": "fd417465f84c1e88"
  },
  {
   "cell_type": "code",
   "metadata": {
    "ExecuteTime": {
     "end_time": "2025-04-03T19:49:10.305230Z",
     "start_time": "2025-04-03T19:49:10.292232Z"
    }
   },
   "source": [
    "J = (3)**2\n",
    "J_epsilon = (3 + 0.001)**2\n",
    "k = (J_epsilon - J)/0.001    # difference divided by epsilon\n",
    "print(f\"J = {J}, J_epsilon = {J_epsilon}, dJ_dw ~= k = {k:0.6f} \")"
   ],
   "id": "982622d7b6f4bfeb",
   "outputs": [
    {
     "name": "stdout",
     "output_type": "stream",
     "text": [
      "J = 9, J_epsilon = 9.006001, dJ_dw ~= k = 6.001000 \n"
     ]
    }
   ],
   "execution_count": 2
  },
  {
   "cell_type": "markdown",
   "metadata": {},
   "source": [
    "We have increased the input value a little bit (0.001), causing the output to change from 9 to 9.006001, an increase of 6 times the input increase. Referencing (1) above, this says that $k=6$, so $\\frac{\\partial J(w)}{\\partial w} \\approx 6$. If you are familiar with calculus, you know, written symbolically,  $\\frac{\\partial J(w)}{\\partial w} = 2 w$. With $w=3$ this is 6. Our calculation above is not exactly 6 because to be exactly correct $\\epsilon$ would need to be [infinitesimally small](https://www.dictionary.com/browse/infinitesimally) or really, really small. That is why we use the symbols $\\approx$ or ~= rather than =. Let's see what happens if we make $\\epsilon$ smaller."
   ],
   "id": "8041c2b02554464"
  },
  {
   "cell_type": "code",
   "metadata": {
    "ExecuteTime": {
     "end_time": "2025-04-03T19:49:12.994266Z",
     "start_time": "2025-04-03T19:49:12.980265Z"
    }
   },
   "source": [
    "J = (3)**2\n",
    "J_epsilon = (3 + 0.000000001)**2\n",
    "k = (J_epsilon - J)/0.000000001\n",
    "print(f\"J = {J}, J_epsilon = {J_epsilon}, dJ_dw ~= k = {k} \")"
   ],
   "id": "f971ad963527c8dd",
   "outputs": [
    {
     "name": "stdout",
     "output_type": "stream",
     "text": [
      "J = 9, J_epsilon = 9.000000006, dJ_dw ~= k = 6.000000496442226 \n"
     ]
    }
   ],
   "execution_count": 3
  },
  {
   "cell_type": "markdown",
   "metadata": {},
   "source": [
    "The value gets close to exactly 6 as we reduce the size of $\\epsilon$. Feel free to try reducing the value further."
   ],
   "id": "3b5e107797adda0d"
  },
  {
   "cell_type": "markdown",
   "metadata": {},
   "source": [
    "## Finding symbolic derivatives\n",
    "In backprop it is useful to know the derivative of simple functions at any input value. Put another way, we would like to know the 'symbolic' derivative rather than the 'arithmetic' derivative. An example of a symbolic derivative is,  $\\frac{\\partial J(w)}{\\partial w} = 2 w$, the derivative of $J(w) = w^2$ above.  With the symbolic derivative you can find the value of the derivative at any input value $w$.  \n",
    "\n",
    "If you have taken a calculus course, you are familiar with the many [differentiation rules](https://en.wikipedia.org/wiki/Differentiation_rules#Power_laws,_polynomials,_quotients,_and_reciprocals) that mathematicians have developed to solve for a derivative given an expression. Well, it turns out this process has been automated with symbolic differentiation programs. An example of this in python is the [SymPy](https://www.sympy.org/en/index.html) library. Let's take a look at how to use this."
   ],
   "id": "ec785a67b19e7c6a"
  },
  {
   "cell_type": "markdown",
   "metadata": {},
   "source": [
    "### $J = w^2$\n",
    "Define the python variables and their symbolic names."
   ],
   "id": "7b629f2c93a391bc"
  },
  {
   "cell_type": "code",
   "metadata": {
    "ExecuteTime": {
     "end_time": "2025-04-03T19:49:16.236838Z",
     "start_time": "2025-04-03T19:49:16.221838Z"
    }
   },
   "source": [
    "J, w = symbols('J, w')"
   ],
   "id": "4d6ab5dec4bed4fd",
   "outputs": [],
   "execution_count": 4
  },
  {
   "cell_type": "markdown",
   "metadata": {},
   "source": [
    "Define and print the expression. Note SymPy produces a [latex](https://en.wikibooks.org/wiki/LaTeX/Mathematics) string which generates a nicely readable equation."
   ],
   "id": "3a34c9d408cd5410"
  },
  {
   "cell_type": "code",
   "metadata": {
    "ExecuteTime": {
     "end_time": "2025-04-03T19:49:18.672587Z",
     "start_time": "2025-04-03T19:49:18.662586Z"
    }
   },
   "source": [
    "J=w**2\n",
    "J"
   ],
   "id": "663dd3d2069f941f",
   "outputs": [
    {
     "data": {
      "text/plain": [
       "w**2"
      ],
      "text/latex": "$\\displaystyle w^{2}$"
     },
     "execution_count": 5,
     "metadata": {},
     "output_type": "execute_result"
    }
   ],
   "execution_count": 5
  },
  {
   "cell_type": "markdown",
   "metadata": {},
   "source": [
    "Use SymPy's `diff` to differentiate the expression for $J$ with respect to $w$. Note the result matches our earlier example."
   ],
   "id": "955b99799d9a464e"
  },
  {
   "cell_type": "code",
   "metadata": {
    "ExecuteTime": {
     "end_time": "2025-04-03T19:49:20.580403Z",
     "start_time": "2025-04-03T19:49:20.536533Z"
    }
   },
   "source": [
    "dJ_dw = diff(J,w)\n",
    "dJ_dw"
   ],
   "id": "ce1aa07157a97c13",
   "outputs": [
    {
     "data": {
      "text/plain": [
       "2*w"
      ],
      "text/latex": "$\\displaystyle 2 w$"
     },
     "execution_count": 6,
     "metadata": {},
     "output_type": "execute_result"
    }
   ],
   "execution_count": 6
  },
  {
   "cell_type": "markdown",
   "metadata": {},
   "source": [
    "Evaluate the derivative at a few points by 'substituting' numeric values for the symbolic values. In the first example, $w$ is replaced by $2$."
   ],
   "id": "d67ea29ed20e5fbd"
  },
  {
   "cell_type": "code",
   "metadata": {
    "ExecuteTime": {
     "end_time": "2025-04-03T19:49:22.762468Z",
     "start_time": "2025-04-03T19:49:22.741472Z"
    }
   },
   "source": [
    "dJ_dw.subs([(w,2)])    # derivative at the point w = 2"
   ],
   "id": "94e8e86148de99d9",
   "outputs": [
    {
     "data": {
      "text/plain": [
       "4"
      ],
      "text/latex": "$\\displaystyle 4$"
     },
     "execution_count": 7,
     "metadata": {},
     "output_type": "execute_result"
    }
   ],
   "execution_count": 7
  },
  {
   "cell_type": "code",
   "metadata": {
    "scrolled": true,
    "ExecuteTime": {
     "end_time": "2025-04-03T19:49:24.076639Z",
     "start_time": "2025-04-03T19:49:24.062596Z"
    }
   },
   "source": [
    "dJ_dw.subs([(w,3)])    # derivative at the point w = 3"
   ],
   "id": "61c7a9fc4cc426f4",
   "outputs": [
    {
     "data": {
      "text/plain": [
       "6"
      ],
      "text/latex": "$\\displaystyle 6$"
     },
     "execution_count": 8,
     "metadata": {},
     "output_type": "execute_result"
    }
   ],
   "execution_count": 8
  },
  {
   "cell_type": "code",
   "metadata": {
    "ExecuteTime": {
     "end_time": "2025-04-03T19:49:25.576835Z",
     "start_time": "2025-04-03T19:49:25.568806Z"
    }
   },
   "source": [
    "dJ_dw.subs([(w,-3)])    # derivative at the point w = -3"
   ],
   "id": "970eeefc587b416f",
   "outputs": [
    {
     "data": {
      "text/plain": [
       "-6"
      ],
      "text/latex": "$\\displaystyle -6$"
     },
     "execution_count": 9,
     "metadata": {},
     "output_type": "execute_result"
    }
   ],
   "execution_count": 9
  },
  {
   "cell_type": "markdown",
   "metadata": {},
   "source": [
    "## $J = 2w$"
   ],
   "id": "5729af1fbdaa3417"
  },
  {
   "cell_type": "code",
   "metadata": {
    "tags": [],
    "ExecuteTime": {
     "end_time": "2025-04-03T19:49:29.934949Z",
     "start_time": "2025-04-03T19:49:29.922593Z"
    }
   },
   "source": [
    "w, J = symbols('w, J')"
   ],
   "id": "3e5a2aea7a7670a9",
   "outputs": [],
   "execution_count": 10
  },
  {
   "cell_type": "code",
   "metadata": {
    "ExecuteTime": {
     "end_time": "2025-04-03T19:49:32.420209Z",
     "start_time": "2025-04-03T19:49:32.408405Z"
    }
   },
   "source": [
    "J = 2 * w\n",
    "J"
   ],
   "id": "82ca034797382c29",
   "outputs": [
    {
     "data": {
      "text/plain": [
       "2*w"
      ],
      "text/latex": "$\\displaystyle 2 w$"
     },
     "execution_count": 11,
     "metadata": {},
     "output_type": "execute_result"
    }
   ],
   "execution_count": 11
  },
  {
   "cell_type": "code",
   "metadata": {
    "tags": [],
    "ExecuteTime": {
     "end_time": "2025-04-03T19:49:36.001361Z",
     "start_time": "2025-04-03T19:49:35.977309Z"
    }
   },
   "source": [
    "dJ_dw = diff(J,w)\n",
    "dJ_dw"
   ],
   "id": "6d27b02432a54845",
   "outputs": [
    {
     "data": {
      "text/plain": [
       "2"
      ],
      "text/latex": "$\\displaystyle 2$"
     },
     "execution_count": 12,
     "metadata": {},
     "output_type": "execute_result"
    }
   ],
   "execution_count": 12
  },
  {
   "cell_type": "code",
   "metadata": {
    "ExecuteTime": {
     "end_time": "2025-04-03T19:49:47.065189Z",
     "start_time": "2025-04-03T19:49:47.053987Z"
    }
   },
   "source": [
    "dJ_dw.subs([(w,-3)])    # derivative at the point w = -3"
   ],
   "id": "6bcfebfce9dc51ed",
   "outputs": [
    {
     "data": {
      "text/plain": [
       "2"
      ],
      "text/latex": "$\\displaystyle 2$"
     },
     "execution_count": 13,
     "metadata": {},
     "output_type": "execute_result"
    }
   ],
   "execution_count": 13
  },
  {
   "cell_type": "markdown",
   "metadata": {},
   "source": [
    "Compare this with the arithmetic calculation"
   ],
   "id": "4384f8505f2725cb"
  },
  {
   "cell_type": "code",
   "metadata": {
    "ExecuteTime": {
     "end_time": "2025-04-03T19:49:48.662600Z",
     "start_time": "2025-04-03T19:49:48.648602Z"
    }
   },
   "source": [
    "J = 2*3\n",
    "J_epsilon = 2*(3 + 0.001)\n",
    "k = (J_epsilon - J)/0.001\n",
    "print(f\"J = {J}, J_epsilon = {J_epsilon}, dJ_dw ~= k = {k} \")"
   ],
   "id": "2a331bce444608a9",
   "outputs": [
    {
     "name": "stdout",
     "output_type": "stream",
     "text": [
      "J = 6, J_epsilon = 6.002, dJ_dw ~= k = 1.9999999999997797 \n"
     ]
    }
   ],
   "execution_count": 14
  },
  {
   "cell_type": "markdown",
   "metadata": {},
   "source": [
    "For the function $J=2w$, it is easy to see that any change in $w$ will result in 2 times that amount of change in the output $J$, regardless of the starting value of $w$. Our NumPy and arithmetic results confirm this. "
   ],
   "id": "4ab66ec6ab253ccb"
  },
  {
   "cell_type": "markdown",
   "metadata": {},
   "source": [
    "## $J = w^3$"
   ],
   "id": "317f67aa36b0200e"
  },
  {
   "cell_type": "code",
   "metadata": {
    "ExecuteTime": {
     "end_time": "2025-04-03T19:49:50.548027Z",
     "start_time": "2025-04-03T19:49:50.536030Z"
    }
   },
   "source": [
    "J, w = symbols('J, w')"
   ],
   "id": "f0ed10b9224f6566",
   "outputs": [],
   "execution_count": 15
  },
  {
   "cell_type": "code",
   "metadata": {
    "ExecuteTime": {
     "end_time": "2025-04-03T19:49:52.442343Z",
     "start_time": "2025-04-03T19:49:52.419344Z"
    }
   },
   "source": [
    "J=w**3\n",
    "J"
   ],
   "id": "2264fa012b04b8a3",
   "outputs": [
    {
     "data": {
      "text/plain": [
       "w**3"
      ],
      "text/latex": "$\\displaystyle w^{3}$"
     },
     "execution_count": 16,
     "metadata": {},
     "output_type": "execute_result"
    }
   ],
   "execution_count": 16
  },
  {
   "cell_type": "code",
   "metadata": {
    "ExecuteTime": {
     "end_time": "2025-04-03T19:49:53.864661Z",
     "start_time": "2025-04-03T19:49:53.852130Z"
    }
   },
   "source": [
    "dJ_dw = diff(J,w)\n",
    "dJ_dw"
   ],
   "id": "cdc60afd1b1c57ec",
   "outputs": [
    {
     "data": {
      "text/plain": [
       "3*w**2"
      ],
      "text/latex": "$\\displaystyle 3 w^{2}$"
     },
     "execution_count": 17,
     "metadata": {},
     "output_type": "execute_result"
    }
   ],
   "execution_count": 17
  },
  {
   "cell_type": "code",
   "metadata": {
    "ExecuteTime": {
     "end_time": "2025-04-03T19:49:55.493868Z",
     "start_time": "2025-04-03T19:49:55.479863Z"
    }
   },
   "source": [
    "dJ_dw.subs([(w,2)])   # derivative at the point w=2"
   ],
   "id": "45e077c46569d3de",
   "outputs": [
    {
     "data": {
      "text/plain": [
       "12"
      ],
      "text/latex": "$\\displaystyle 12$"
     },
     "execution_count": 18,
     "metadata": {},
     "output_type": "execute_result"
    }
   ],
   "execution_count": 18
  },
  {
   "cell_type": "markdown",
   "metadata": {},
   "source": [
    "Compare this with the arithmetic calculation"
   ],
   "id": "8d84815fd14fbcb5"
  },
  {
   "cell_type": "code",
   "metadata": {
    "ExecuteTime": {
     "end_time": "2025-04-03T19:49:57.547112Z",
     "start_time": "2025-04-03T19:49:57.532114Z"
    }
   },
   "source": [
    "J = (2)**3\n",
    "J_epsilon = (2+0.001)**3\n",
    "k = (J_epsilon - J)/0.001\n",
    "print(f\"J = {J}, J_epsilon = {J_epsilon}, dJ_dw ~= k = {k} \")"
   ],
   "id": "df242d93ab2d0545",
   "outputs": [
    {
     "name": "stdout",
     "output_type": "stream",
     "text": [
      "J = 8, J_epsilon = 8.012006000999998, dJ_dw ~= k = 12.006000999997823 \n"
     ]
    }
   ],
   "execution_count": 19
  },
  {
   "cell_type": "markdown",
   "metadata": {},
   "source": [
    "## $J = \\frac{1}{w}$"
   ],
   "id": "b713826379191053"
  },
  {
   "cell_type": "code",
   "metadata": {
    "ExecuteTime": {
     "end_time": "2025-04-03T19:49:59.261804Z",
     "start_time": "2025-04-03T19:49:59.248458Z"
    }
   },
   "source": [
    "J, w = symbols('J, w')"
   ],
   "id": "dc060d5f9964ea7f",
   "outputs": [],
   "execution_count": 20
  },
  {
   "cell_type": "code",
   "metadata": {
    "ExecuteTime": {
     "end_time": "2025-04-03T19:50:00.536919Z",
     "start_time": "2025-04-03T19:50:00.522921Z"
    }
   },
   "source": [
    "J= 1/w\n",
    "J"
   ],
   "id": "951708e9b61eead3",
   "outputs": [
    {
     "data": {
      "text/plain": [
       "1/w"
      ],
      "text/latex": "$\\displaystyle \\frac{1}{w}$"
     },
     "execution_count": 21,
     "metadata": {},
     "output_type": "execute_result"
    }
   ],
   "execution_count": 21
  },
  {
   "cell_type": "code",
   "metadata": {
    "ExecuteTime": {
     "end_time": "2025-04-03T19:50:02.065288Z",
     "start_time": "2025-04-03T19:50:02.055353Z"
    }
   },
   "source": [
    "dJ_dw = diff(J,w)\n",
    "dJ_dw"
   ],
   "id": "5fe264f5f955ee8a",
   "outputs": [
    {
     "data": {
      "text/plain": [
       "-1/w**2"
      ],
      "text/latex": "$\\displaystyle - \\frac{1}{w^{2}}$"
     },
     "execution_count": 22,
     "metadata": {},
     "output_type": "execute_result"
    }
   ],
   "execution_count": 22
  },
  {
   "cell_type": "code",
   "metadata": {
    "ExecuteTime": {
     "end_time": "2025-04-03T19:50:03.897295Z",
     "start_time": "2025-04-03T19:50:03.874572Z"
    }
   },
   "source": [
    "dJ_dw.subs([(w,2)])"
   ],
   "id": "d0ce64a1d09c07ce",
   "outputs": [
    {
     "data": {
      "text/plain": [
       "-1/4"
      ],
      "text/latex": "$\\displaystyle - \\frac{1}{4}$"
     },
     "execution_count": 23,
     "metadata": {},
     "output_type": "execute_result"
    }
   ],
   "execution_count": 23
  },
  {
   "cell_type": "markdown",
   "metadata": {},
   "source": [
    "Compare this with the arithmetic calculation"
   ],
   "id": "b460d0ebb55dc916"
  },
  {
   "cell_type": "code",
   "metadata": {
    "ExecuteTime": {
     "end_time": "2025-04-03T19:50:05.372432Z",
     "start_time": "2025-04-03T19:50:05.361472Z"
    }
   },
   "source": [
    "J = 1/2\n",
    "J_epsilon = 1/(2+0.001)\n",
    "k = (J_epsilon - J)/0.001\n",
    "print(f\"J = {J}, J_epsilon = {J_epsilon}, dJ_dw ~= k = {k} \")"
   ],
   "id": "f8b80cd62f73eb20",
   "outputs": [
    {
     "name": "stdout",
     "output_type": "stream",
     "text": [
      "J = 0.5, J_epsilon = 0.49975012493753124, dJ_dw ~= k = -0.2498750624687629 \n"
     ]
    }
   ],
   "execution_count": 24
  },
  {
   "cell_type": "markdown",
   "metadata": {},
   "source": [
    "## $J = \\frac{1}{w^2}$"
   ],
   "id": "412aa6fe202180f7"
  },
  {
   "cell_type": "code",
   "metadata": {
    "ExecuteTime": {
     "end_time": "2025-04-03T19:50:07.609462Z",
     "start_time": "2025-04-03T19:50:07.599469Z"
    }
   },
   "source": [
    "J, w = symbols('J, w')"
   ],
   "id": "fea388e413084d29",
   "outputs": [],
   "execution_count": 25
  },
  {
   "cell_type": "markdown",
   "metadata": {},
   "source": [
    "If you have time, try to repeat the above steps on the function  $J = \\frac{1}{w^2}$ and evaluate at w=4"
   ],
   "id": "b0bb6efa5a087188"
  },
  {
   "cell_type": "code",
   "execution_count": null,
   "metadata": {},
   "outputs": [],
   "source": [],
   "id": "228bca5d40f93c23"
  },
  {
   "cell_type": "code",
   "execution_count": null,
   "metadata": {},
   "outputs": [],
   "source": [],
   "id": "9d638fd694d0f292"
  },
  {
   "cell_type": "code",
   "execution_count": null,
   "metadata": {},
   "outputs": [],
   "source": [],
   "id": "a73c81b5c3e5455f"
  },
  {
   "cell_type": "markdown",
   "metadata": {},
   "source": [
    "Compare this with the arithmetic calculation"
   ],
   "id": "4dd8b4d435d42869"
  },
  {
   "cell_type": "code",
   "metadata": {
    "ExecuteTime": {
     "end_time": "2025-04-03T19:50:09.796621Z",
     "start_time": "2025-04-03T19:50:09.783524Z"
    }
   },
   "source": [
    "J = 1/4**2\n",
    "J_epsilon = 1/(4+0.001)**2\n",
    "k = (J_epsilon - J)/0.001\n",
    "print(f\"J = {J}, J_epsilon = {J_epsilon}, dJ_dw ~= k = {k} \")"
   ],
   "id": "6c3897ce7fb96ce0",
   "outputs": [
    {
     "name": "stdout",
     "output_type": "stream",
     "text": [
      "J = 0.0625, J_epsilon = 0.06246876171484496, dJ_dw ~= k = -0.031238285155041345 \n"
     ]
    }
   ],
   "execution_count": 26
  },
  {
   "cell_type": "markdown",
   "metadata": {},
   "source": [
    "<details>\n",
    "  <summary><font size=\"3\" color=\"darkgreen\"><b>Click for hints</b></font></summary>\n",
    "    \n",
    "```python \n",
    "J= 1/w**2\n",
    "dJ_dw = diff(J,w)\n",
    "dJ_dw.subs([(w,4)])\n",
    "```\n",
    "  \n",
    "\n",
    "</details>\n",
    "\n",
    "    \n"
   ],
   "id": "7d4d6a417b84afb1"
  },
  {
   "cell_type": "markdown",
   "metadata": {},
   "source": [
    "## Congratulations!\n",
    "If you have run through the above examples, you understand a derivative describes the change in the output of a function that is a result of a small change in an input to that function. You also can use *SymPy* in python to find the symbolic derivative of functions."
   ],
   "id": "39b147d89aaeb82"
  }
 ],
 "metadata": {
  "kernelspec": {
   "display_name": "Python 3",
   "language": "python",
   "name": "python3"
  },
  "language_info": {
   "codemirror_mode": {
    "name": "ipython",
    "version": 3
   },
   "file_extension": ".py",
   "mimetype": "text/x-python",
   "name": "python",
   "nbconvert_exporter": "python",
   "pygments_lexer": "ipython3",
   "version": "3.9.10"
  }
 },
 "nbformat": 4,
 "nbformat_minor": 5
}
